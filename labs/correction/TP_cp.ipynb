{
 "cells": [
  {
   "cell_type": "markdown",
   "metadata": {},
   "source": [
    "# Tutorial: conformal prediction (regression)\n"
   ]
  },
  {
   "cell_type": "code",
   "execution_count": 210,
   "metadata": {},
   "outputs": [],
   "source": [
    "import random\n",
    "import numpy as np\n",
    "import statsmodels as sm\n",
    "import matplotlib.pyplot as plt"
   ]
  },
  {
   "cell_type": "code",
   "execution_count": 211,
   "metadata": {},
   "outputs": [],
   "source": [
    "import seaborn as sns"
   ]
  },
  {
   "cell_type": "code",
   "execution_count": 212,
   "metadata": {},
   "outputs": [],
   "source": [
    "colors_blindness = sns.color_palette(\"colorblind\")"
   ]
  },
  {
   "cell_type": "code",
   "execution_count": 213,
   "metadata": {},
   "outputs": [],
   "source": [
    "color_train = colors_blindness[1]\n",
    "color_cal = colors_blindness[9]\n",
    "color_test = colors_blindness[7] #(0,0,0) #colors_blindness[4]"
   ]
  },
  {
   "cell_type": "markdown",
   "metadata": {},
   "source": [
    "<h1 id=\"tocheading\">Table of Contents</h1>\n",
    "<div id=\"toc\"></div>\n",
    "\n",
    "1. [Data simulation: regression](#Data-simulation:-regression)\n",
    "1. [Standard regression](#Standard-regression)\n",
    "    1. [Data splitting](#data-splitting1)\n",
    "    1. [Data preparation](#data-preparation1)\n",
    "    1. [Fitting](#fitting1)\n",
    "    1. [Prediction](#prediction1)\n",
    "1. [Quantile regression](#Quantile-regression-(QR))\n",
    "    1. [Fitting](#fitting2)\n",
    "    1. [Prediction](#prediction2)\n",
    "1. [Split Conformal Prediction (SCP): standard regression](#Split-Conformal-Prediction-(SCP):-standard-regression)\n",
    "    1. [Data splitting & preparation](#data-splitting-(SCP))\n",
    "    1. [Defining a score](#defining-a-score-(SCP))\n",
    "    1. [Fitting](#fitting-(SCP))\n",
    "    1. [Calibration scores](#calibration-scores-(SCP))\n",
    "    1. [Prediction](#prediction-(SCP))\n",
    "    1. [Coverage](#coverage-(SCP))\n",
    "1. [Conformalized Quantile Regression (CQR)](#Conformalized-Quantile-Regression-(CQR))\n",
    "    1. [Defining a score](#defining-a-score-(CQR))\n",
    "    1. [Fitting](#fitting-(CQR))\n",
    "    1. [Calibration scores](#calibration-scores-(CQR))\n",
    "    1. [Prediction](#prediction-(CQR))\n",
    "    1. [Coverage](#coverage-(CQR))\n",
    "      \n",
    "<!--1. [Split Conformal Prediction (SCP): classification](#Split-Conformal-(SCP):-classification)\n",
    "    1. [Data splitting](#data-splitting-(SCP)-classif)\n",
    "    1. [Data preparation](#data-preparation-(SCP)-classif)\n",
    "    1. [Defining a score](#defining-a-score-(SCP)-classif)\n",
    "    1. [Fitting](#fitting-(SCP)-classif)\n",
    "    1. [Calibration scores](#calibration-scores-(SCP)-classif)\n",
    "    1. [Prediction](#prediction-(SCP)-classif)\n",
    "1. [Conformalized Quantile Regression (CQR): classification](#Conformalized-Quantile-Regression-(CQR):-classification)\n",
    "    1. [Defining a score](#defining-a-score-(CQR)-classif)\n",
    "    1. [Fitting](#fitting-(CQR)-classif)\n",
    "    1. [Calibration scores](#calibration-scores-(CQR)-classif)\n",
    "    1. [Prediction](#prediction-(CQR)-classif)-->\n",
    "\n"
   ]
  },
  {
   "cell_type": "markdown",
   "metadata": {},
   "source": [
    "## Data simulation: regression"
   ]
  },
  {
   "cell_type": "code",
   "execution_count": 238,
   "metadata": {},
   "outputs": [],
   "source": [
    "np.random.seed(42)\n",
    "\n",
    "n = 300\n",
    "X = np.random.uniform(low=0,high=5,size=n)\n",
    "sigma = 1\n",
    "## Homoscedastic model\n",
    "# Y = np.cos(X) + sigma*np.random.normal(size=n)\n",
    "## Heteroscedastic model\n",
    "y = np.cos(X) + (1-np.cos(X))*sigma*np.random.normal(size=n)"
   ]
  },
  {
   "cell_type": "code",
   "execution_count": 239,
   "metadata": {},
   "outputs": [
    {
     "data": {
      "image/png": "[encoded data removed]",
      "text/plain": [
       "<Figure size 432x288 with 1 Axes>"
      ]
     },
     "metadata": {
      "needs_background": "light"
     },
     "output_type": "display_data"
    }
   ],
   "source": [
    "plt.scatter(X,y,marker='.')\n",
    "plt.xlabel(r'$X$')\n",
    "plt.ylabel(r'$Y$')\n",
    "plt.show()"
   ]
  },
  {
   "cell_type": "markdown",
   "metadata": {},
   "source": [
    "# Standard regression\n",
    "\n",
    "\n",
    "<div id=\"data-splitting1\"> </div>\n",
    "\n",
    "## Data splitting\n",
    "\n"
   ]
  },
  {
   "cell_type": "code",
   "execution_count": 240,
   "metadata": {},
   "outputs": [],
   "source": [
    "from sklearn.model_selection import train_test_split\n",
    "\n",
    "X_train, X_test, y_train, y_test = train_test_split(X, y, \n",
    "                                                    test_size=0.33, \n",
    "                                                    random_state=42)"
   ]
  },
  {
   "cell_type": "markdown",
   "metadata": {},
   "source": [
    "<div id=\"data-preparation1\"> </div>\n",
    "\n",
    "## Data preparation"
   ]
  },
  {
   "cell_type": "code",
   "execution_count": 241,
   "metadata": {},
   "outputs": [],
   "source": [
    "# Data preparation (embedding)\n",
    "\n",
    "from sklearn.preprocessing import PolynomialFeatures\n",
    "\n",
    "\n",
    "poly = PolynomialFeatures(4)\n",
    "Xpoly_train = poly.fit_transform(X_train[:, np.newaxis])\n",
    "Xpoly_test = poly.fit_transform(X_test[:, np.newaxis])\n"
   ]
  },
  {
   "cell_type": "markdown",
   "metadata": {},
   "source": [
    "<div id=\"fitting1\"> </div>\n",
    "\n",
    "## Fitting"
   ]
  },
  {
   "cell_type": "code",
   "execution_count": 242,
   "metadata": {},
   "outputs": [
    {
     "data": {
      "text/plain": [
       "LinearRegression(fit_intercept=False)"
      ]
     },
     "execution_count": 242,
     "metadata": {},
     "output_type": "execute_result"
    }
   ],
   "source": [
    "from sklearn.linear_model import LinearRegression\n",
    "\n",
    "linear_reg = LinearRegression(fit_intercept=False)\n",
    "linear_reg.fit(Xpoly_train,y_train)\n"
   ]
  },
  {
   "cell_type": "markdown",
   "metadata": {},
   "source": [
    "<div id=\"prediction1\"></div>\n",
    "\n",
    "## Prediction"
   ]
  },
  {
   "cell_type": "code",
   "execution_count": 243,
   "metadata": {},
   "outputs": [
    {
     "data": {
      "image/png": "[encoded data removed]",
      "text/plain": [
       "<Figure size 432x288 with 1 Axes>"
      ]
     },
     "metadata": {
      "needs_background": "light"
     },
     "output_type": "display_data"
    }
   ],
   "source": [
    "# Visualization\n",
    "plt.scatter(X_train,y_train,marker='.',color=color_train,label=\"Train\")\n",
    "plt.scatter(X_test,y_test,marker='.',color=color_test,label=\"Test\")\n",
    "aux = np.linspace(0,5,500)\n",
    "auxpoly = poly.fit_transform(aux[:, np.newaxis])\n",
    "plt.plot(aux,linear_reg.predict(auxpoly),color=color_train,label=\"Estimation\")\n",
    "plt.legend()\n",
    "plt.xlabel(r'$X$')\n",
    "plt.ylabel(r'$Y$')\n",
    "plt.show()"
   ]
  },
  {
   "cell_type": "code",
   "execution_count": 244,
   "metadata": {},
   "outputs": [
    {
     "name": "stdout",
     "output_type": "stream",
     "text": [
      "R2 for linear regression (polynomial features):  0.2135705744567099\n",
      "RMSE for linear regression (polynomial features):  1.2727821486358577\n",
      "RMSE for mean predictor:  1.448787378633309\n"
     ]
    }
   ],
   "source": [
    "# Some metrics of performance\n",
    "y_pred = linear_reg.predict(Xpoly_test)\n",
    "Rtwo_linear_reg = linear_reg.score(Xpoly_test,y_test)\n",
    "print(\"R2 for linear regression (polynomial features): \",Rtwo_linear_reg)\n",
    "RMSE_linear_reg = np.sqrt(np.mean((y_pred-y_test)**2))\n",
    "print(\"RMSE for linear regression (polynomial features): \",RMSE_linear_reg)\n",
    "RMSE_mean = np.sqrt(np.mean((np.mean(y_train)-y_test)**2))\n",
    "print(\"RMSE for mean predictor: \",RMSE_mean)"
   ]
  },
  {
   "cell_type": "markdown",
   "metadata": {},
   "source": [
    "# Quantile regression (QR) \n",
    "\n",
    "\n",
    "<div id=\"fitting2\"></div>\n",
    "\n",
    "## Fitting (QR)"
   ]
  },
  {
   "cell_type": "code",
   "execution_count": 245,
   "metadata": {},
   "outputs": [
    {
     "data": {
      "text/plain": [
       "QuantileRegressor(alpha=0, solver='highs')"
      ]
     },
     "execution_count": 245,
     "metadata": {},
     "output_type": "execute_result"
    }
   ],
   "source": [
    "from sklearn.linear_model import QuantileRegressor\n",
    "\n",
    "from sklearn.utils.fixes import sp_version, parse_version\n",
    "\n",
    "## a good idea is to update scipy (!) to avoid problem of convergence\n",
    "solver = \"highs\" if sp_version >= parse_version(\"1.6.0\") else \"interior-point\"\n",
    "\n",
    "beta = 0.1\n",
    "qr_down = QuantileRegressor(quantile=beta/2, alpha=0,solver='highs')\n",
    "qr_up = QuantileRegressor(quantile=1-beta/2, alpha=0,solver='highs')\n",
    "qr_med = QuantileRegressor(quantile=0.5, alpha=0,solver='highs')\n",
    "qr_down.fit(Xpoly_train, y_train)\n",
    "qr_up.fit(Xpoly_train, y_train)\n",
    "qr_med.fit(Xpoly_train, y_train)\n"
   ]
  },
  {
   "cell_type": "markdown",
   "metadata": {},
   "source": [
    "<div id=\"prediction2\"></div>\n",
    "\n",
    "## Prediction (QR) "
   ]
  },
  {
   "cell_type": "code",
   "execution_count": 246,
   "metadata": {},
   "outputs": [
    {
     "data": {
      "image/png": "[encoded data removed]",
      "text/plain": [
       "<Figure size 432x288 with 1 Axes>"
      ]
     },
     "metadata": {
      "needs_background": "light"
     },
     "output_type": "display_data"
    }
   ],
   "source": [
    "plt.plot(aux,qr_up.predict(auxpoly),'--',color=color_train,label=\"q sup\")\n",
    "plt.plot(aux,qr_down.predict(auxpoly),'--',color=color_train,label=\"q inf\")\n",
    "plt.plot(aux,qr_med.predict(auxpoly),'-',color=color_test,label=\"median\")\n",
    "plt.plot(aux,linear_reg.predict(auxpoly),'-',color=color_train,label=\"linear reg\")\n",
    "plt.scatter(X_test,y_test,marker='.',color=color_test,zorder=2)\n",
    "plt.xlabel(r'$X$')\n",
    "plt.ylabel(r'$Y$')\n",
    "plt.legend()\n",
    "#plt.savefig('quantile_reg.pdf', bbox_inches='tight',dpi=300)\n",
    "plt.show()"
   ]
  },
  {
   "cell_type": "markdown",
   "metadata": {},
   "source": [
    "## What about coverage? (QR)"
   ]
  },
  {
   "cell_type": "code",
   "execution_count": 247,
   "metadata": {},
   "outputs": [],
   "source": [
    "y_up_train = qr_up.predict(Xpoly_train)\n",
    "y_up_test = qr_up.predict(Xpoly_test)\n",
    "y_down_train = qr_down.predict(Xpoly_train)\n",
    "y_down_test = qr_down.predict(Xpoly_test)"
   ]
  },
  {
   "cell_type": "code",
   "execution_count": 248,
   "metadata": {},
   "outputs": [
    {
     "name": "stdout",
     "output_type": "stream",
     "text": [
      "Theoretical coverage:  0.9\n",
      "Empirical coverage with QR:  0.9292929292929293\n"
     ]
    }
   ],
   "source": [
    "# Count how many times the true label was indeed \n",
    "# in the prediction interval on the test set\n",
    "\n",
    "prop_covered_qr = np.sum((y_down_test<=y_test)*(y_test<=y_up_test))/len(y_test)\n",
    "print(\"Theoretical coverage: \",1-beta)\n",
    "print(\"Empirical coverage with QR: \",prop_covered_qr)"
   ]
  },
  {
   "cell_type": "markdown",
   "metadata": {},
   "source": [
    "# Split Conformal Prediction (SCP): standard regression"
   ]
  },
  {
   "cell_type": "markdown",
   "metadata": {},
   "source": [
    "<div id=\"data-splitting-(SCP)\"> </div>\n",
    "\n",
    "## Data splitting (need of a calibration set) + preparation (SCP)\n"
   ]
  },
  {
   "cell_type": "code",
   "execution_count": 249,
   "metadata": {},
   "outputs": [],
   "source": [
    "from sklearn.model_selection import train_test_split\n",
    "\n",
    "# Data splitting (achtung: overwriting on train data)\n",
    "X_train, X_cal, y_train, y_cal = train_test_split(X_train, y_train, \n",
    "                                                  test_size=0.25, \n",
    "                                                  random_state=42)\n",
    "Xpoly_train = poly.fit_transform(X_train[:, np.newaxis])\n",
    "Xpoly_cal = poly.fit_transform(X_cal[:, np.newaxis])\n"
   ]
  },
  {
   "cell_type": "code",
   "execution_count": 250,
   "metadata": {
    "scrolled": true
   },
   "outputs": [
    {
     "data": {
      "image/png": "[encoded data removed]",
      "text/plain": [
       "<Figure size 432x288 with 1 Axes>"
      ]
     },
     "metadata": {
      "needs_background": "light"
     },
     "output_type": "display_data"
    }
   ],
   "source": [
    "# Visualization\n",
    "\n",
    "plt.figure()\n",
    "plt.scatter(X_train,y_train,marker='.',color=color_train,label=\"Train\")\n",
    "plt.scatter(X_cal,y_cal,marker='.',color=color_cal,label=\"Cal\")\n",
    "plt.scatter(X_test,y_test,marker='.',color=color_test,label=\"Test\")\n",
    "plt.legend(loc=(1.04, 0.25))\n",
    "plt.xlabel(r'$X$')\n",
    "plt.ylabel(r'$Y$')\n",
    "plt.show()"
   ]
  },
  {
   "cell_type": "markdown",
   "metadata": {},
   "source": [
    "<div id=\"defining-a-score-(SCP)\"> </div>\n",
    "\n",
    "## Defining a score (SCP)"
   ]
  },
  {
   "cell_type": "code",
   "execution_count": 251,
   "metadata": {},
   "outputs": [],
   "source": [
    "def my_score(y_pred,y):\n",
    "    return np.abs(y_pred-y)"
   ]
  },
  {
   "cell_type": "markdown",
   "metadata": {},
   "source": [
    "<div id=\"fitting-(SCP)\"> </div>\n",
    "\n",
    "## Fitting (SCP)"
   ]
  },
  {
   "cell_type": "code",
   "execution_count": 252,
   "metadata": {},
   "outputs": [
    {
     "data": {
      "text/plain": [
       "LinearRegression(fit_intercept=False)"
      ]
     },
     "execution_count": 252,
     "metadata": {},
     "output_type": "execute_result"
    }
   ],
   "source": [
    "linear_reg = LinearRegression(fit_intercept=False)\n",
    "linear_reg.fit(Xpoly_train,y_train)"
   ]
  },
  {
   "cell_type": "markdown",
   "metadata": {},
   "source": [
    "<div id=\"calibration-scores-(SCP)\"> </div>\n",
    "\n",
    "## Calibration scores (SCP)"
   ]
  },
  {
   "cell_type": "code",
   "execution_count": 253,
   "metadata": {},
   "outputs": [],
   "source": [
    "residuals_cal = my_score(linear_reg.predict(Xpoly_cal),y_cal)\n",
    "n_cal = len(y_cal)\n",
    "quantile_scp = np.quantile(residuals_cal,np.ceil((1-beta)*(n_cal+1))/n_cal)"
   ]
  },
  {
   "cell_type": "markdown",
   "metadata": {},
   "source": [
    "<div id=\"prediction-(SCP)\"> </div>\n",
    "\n",
    "## Prediction (SCP)"
   ]
  },
  {
   "cell_type": "code",
   "execution_count": 254,
   "metadata": {},
   "outputs": [
    {
     "data": {
      "image/png": "[encoded data removed]",
      "text/plain": [
       "<Figure size 432x288 with 1 Axes>"
      ]
     },
     "metadata": {
      "needs_background": "light"
     },
     "output_type": "display_data"
    }
   ],
   "source": [
    "plt.scatter(X_test,y_test,marker='.',color=color_test,zorder=2, s=50)\n",
    "\n",
    "y_pred_test = linear_reg.predict(Xpoly_test)\n",
    "plt.plot(X_test[np.argsort(X_test)],y_pred_test[np.argsort(X_test)],color=color_train)\n",
    "plt.fill_between(X_test[np.argsort(X_test)],\n",
    "                 y_pred_test[np.argsort(X_test)]+quantile_scp,\n",
    "                 y_pred_test[np.argsort(X_test)]-quantile_scp,\n",
    "                 fc=color_cal,alpha=.3)\n",
    "plt.xlabel(r'$X$')\n",
    "plt.ylabel(r'$Y$')\n",
    "plt.show()"
   ]
  },
  {
   "cell_type": "markdown",
   "metadata": {},
   "source": [
    "<div id=\"coverage-(SCP)\"> </div>\n",
    "\n",
    "## Coverage (SCP)"
   ]
  },
  {
   "cell_type": "code",
   "execution_count": 255,
   "metadata": {},
   "outputs": [
    {
     "name": "stdout",
     "output_type": "stream",
     "text": [
      "Theoretical coverage:  0.9\n",
      "Empirical coverage with QR:  0.9292929292929293\n",
      "Empirical coverage with SCP:  0.98989898989899\n"
     ]
    }
   ],
   "source": [
    "# Count how many times the true label was indeed \n",
    "# in the prediction interval on the test set\n",
    "\n",
    "prop_covered_scp = np.sum(((y_pred_test-quantile_scp)<=y_test)*(y_test<=(y_pred_test+quantile_scp)))/len(y_test)\n",
    "print(\"Theoretical coverage: \",1-beta)\n",
    "print(\"Empirical coverage with QR: \",prop_covered_qr)\n",
    "print(\"Empirical coverage with SCP: \",prop_covered_scp) ### WORST THAN QR with low n..."
   ]
  },
  {
   "cell_type": "markdown",
   "metadata": {},
   "source": [
    "<div id=\"Conformalized-Quantile-Regression-(CQR)\"> </div>\n",
    "\n",
    "# Conformalized Quantile Regression (CQR) \n",
    "\n"
   ]
  },
  {
   "cell_type": "markdown",
   "metadata": {},
   "source": [
    "<div id=\"defining-a-score-(CQR)\"> </div>\n",
    "\n",
    "## Defining a score (CQR)\n",
    "## USELESS"
   ]
  },
  {
   "cell_type": "code",
   "execution_count": 256,
   "metadata": {},
   "outputs": [],
   "source": [
    "def my_signed_score(y_pred,y):\n",
    "    return y_pred-y"
   ]
  },
  {
   "cell_type": "markdown",
   "metadata": {},
   "source": [
    "<div id=\"fitting-(CQR)\"> </div>\n",
    "\n",
    "## Fitting (CQR)"
   ]
  },
  {
   "cell_type": "code",
   "execution_count": 257,
   "metadata": {},
   "outputs": [
    {
     "data": {
      "text/plain": [
       "QuantileRegressor(alpha=0, quantile=0.95, solver='highs')"
      ]
     },
     "execution_count": 257,
     "metadata": {},
     "output_type": "execute_result"
    }
   ],
   "source": [
    "from sklearn.linear_model import QuantileRegressor\n",
    "\n",
    "from sklearn.utils.fixes import sp_version, parse_version\n",
    "\n",
    "## a good idea is to update scipy (!) to avoid problem of convergence\n",
    "solver = \"highs\" if sp_version >= parse_version(\"1.6.0\") else \"interior-point\"\n",
    "\n",
    "beta = 0.1\n",
    "qr_down = QuantileRegressor(quantile=beta/2, alpha=0,solver='highs')\n",
    "qr_up = QuantileRegressor(quantile=1-beta/2, alpha=0,solver='highs')\n",
    "qr_down.fit(Xpoly_train, y_train)\n",
    "qr_up.fit(Xpoly_train, y_train)\n",
    "\n",
    "\n",
    "#qr_med = QuantileRegressor(quantile=0.5, alpha=0,solver='highs')\n",
    "#qr_med.fit(Xpoly_train, y_train)"
   ]
  },
  {
   "cell_type": "markdown",
   "metadata": {},
   "source": [
    "<div id=\"calibration-scores-(CQR)\"> </div>\n",
    "\n",
    "## Calibration scores (CQR)"
   ]
  },
  {
   "cell_type": "code",
   "execution_count": 258,
   "metadata": {},
   "outputs": [],
   "source": [
    "y_down_cal = qr_down.predict(Xpoly_cal)\n",
    "y_up_cal = qr_up.predict(Xpoly_cal)\n",
    "residuals_cal = np.maximum(y_cal-y_up_cal, y_down_cal-y_cal) #signed scores\n",
    "n_cal = len(y_cal)\n",
    "quantile_cqr = np.quantile(residuals_cal,np.ceil((1-beta)*(n_cal+1))/n_cal)"
   ]
  },
  {
   "cell_type": "markdown",
   "metadata": {},
   "source": [
    "<div id=\"prediction-(CQR)\"> </div>\n",
    "\n",
    "## Prediction (CQR)"
   ]
  },
  {
   "cell_type": "code",
   "execution_count": 259,
   "metadata": {},
   "outputs": [
    {
     "data": {
      "image/png": "[encoded data removed]",
      "text/plain": [
       "<Figure size 432x288 with 1 Axes>"
      ]
     },
     "metadata": {
      "needs_background": "light"
     },
     "output_type": "display_data"
    }
   ],
   "source": [
    "# prediction on test\n",
    "y_down_test = qr_down.predict(Xpoly_test)\n",
    "y_up_test = qr_up.predict(Xpoly_test)\n",
    "\n",
    "# prediction interval\n",
    "plt.scatter(X_test,y_test,marker='.',color=color_test,zorder=2)\n",
    "plt.plot(X_test[np.argsort(X_test)],\n",
    "         y_down_test[np.argsort(X_test)],\n",
    "         '--',\n",
    "         color=color_train)\n",
    "plt.plot(X_test[np.argsort(X_test)],\n",
    "         y_up_test[np.argsort(X_test)],\n",
    "         '--',\n",
    "         color=color_train)\n",
    "plt.fill_between(X_test[np.argsort(X_test)],\n",
    "                 y_up_test[np.argsort(X_test)]+quantile_cqr,\n",
    "                 y_down_test[np.argsort(X_test)]-quantile_cqr,\n",
    "                 fc=color_cal,alpha=.3)\n",
    "plt.xlabel(r'$X$')\n",
    "plt.ylabel(r'$Y$')\n",
    "#plt.savefig('CQR_2.pdf', bbox_inches='tight',dpi=300)\n",
    "plt.show()"
   ]
  },
  {
   "cell_type": "markdown",
   "metadata": {},
   "source": [
    "<div id=\"coverage-(CQR)\"> </div>\n",
    "\n",
    "## Coverage (CQR)"
   ]
  },
  {
   "cell_type": "code",
   "execution_count": 260,
   "metadata": {},
   "outputs": [
    {
     "name": "stdout",
     "output_type": "stream",
     "text": [
      "Theoretical coverage:  0.9\n",
      "Empirical coverage with QR:  0.9292929292929293\n",
      "Empirical coverage with SCP:  0.98989898989899\n",
      "Empirical coverage with CQR:  0.98989898989899\n"
     ]
    }
   ],
   "source": [
    "# Count how many times the true label was indeed \n",
    "# in the prediction interval on the test set\n",
    "\n",
    "prop_covered_cqr = np.sum(((y_down_test-quantile_cqr)<=y_test)*(y_test<=(y_up_test+quantile_cqr)))/len(y_test)\n",
    "print(\"Theoretical coverage: \",1-beta)\n",
    "print(\"Empirical coverage with QR: \",prop_covered_qr)\n",
    "print(\"Empirical coverage with SCP: \",prop_covered_scp) \n",
    "print(\"Empirical coverage with CQR: \",prop_covered_cqr)\n"
   ]
  },
  {
   "cell_type": "code",
   "execution_count": 261,
   "metadata": {},
   "outputs": [
    {
     "data": {
      "text/plain": [
       "0.6229301162363142"
      ]
     },
     "execution_count": 261,
     "metadata": {},
     "output_type": "execute_result"
    }
   ],
   "source": [
    "quantile_cqr"
   ]
  },
  {
   "cell_type": "markdown",
   "metadata": {},
   "source": [
    "# Opening Jackknife+/CV"
   ]
  },
  {
   "cell_type": "code",
   "execution_count": null,
   "metadata": {},
   "outputs": [],
   "source": []
  }
 ],
 "metadata": {
  "kernelspec": {
   "display_name": "Python 3",
   "language": "python",
   "name": "python3"
  },
  "language_info": {
   "codemirror_mode": {
    "name": "ipython",
    "version": 3
   },
   "file_extension": ".py",
   "mimetype": "text/x-python",
   "name": "python",
   "nbconvert_exporter": "python",
   "pygments_lexer": "ipython3",
   "version": "3.7.6"
  }
 },
 "nbformat": 4,
 "nbformat_minor": 4
}
