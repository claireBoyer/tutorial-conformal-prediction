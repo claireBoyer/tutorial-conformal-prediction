{
 "cells": [
  {
   "cell_type": "markdown",
   "metadata": {
    "id": "G3hpXzDxCN6o"
   },
   "source": [
    "# Tutorial: conformal prediction (regression)\n"
   ]
  },
  {
   "cell_type": "code",
   "execution_count": null,
   "metadata": {
    "collapsed": true,
    "id": "mIivkGwgCN6s"
   },
   "outputs": [],
   "source": [
    "import requests\n",
    "\n",
    "exec(requests.get(\"https://raw.githubusercontent.com/claireBoyer/tutorial-conformal-prediction/main/labs/aux-npt/get-send-code.html\").content)\n",
    "\n",
    "npt_config = {\n",
    "    'session_name': 'TutoCP',\n",
    "    'session_owner': 'claireb',\n",
    "    'sender_name': input(\"Your name:\"),\n",
    "}\n",
    "send('started', 0)\n",
    "\n",
    "\n",
    "# The ''send'' function enables us to see which question you have reached\n",
    "# If this cell keeps runnning for more than a minute, restart kernel \n",
    "# If it happens again, redefine \n",
    "# def send(a,b): return()\n",
    "\n",
    "import random\n",
    "import numpy as np\n",
    "import statsmodels as sm\n",
    "import matplotlib.pyplot as plt\n",
    "\n",
    "# Be patient, this may take 30ss"
   ]
  },
  {
   "cell_type": "code",
   "execution_count": 27,
   "metadata": {
    "collapsed": true,
    "id": "H61CvWmcCN6u"
   },
   "outputs": [],
   "source": [
    "import seaborn as sns"
   ]
  },
  {
   "cell_type": "code",
   "execution_count": 28,
   "metadata": {
    "collapsed": true,
    "id": "2GJwuPHaCN6v"
   },
   "outputs": [],
   "source": [
    "colors_blindness = sns.color_palette(\"colorblind\")"
   ]
  },
  {
   "cell_type": "code",
   "execution_count": 29,
   "metadata": {
    "collapsed": true,
    "id": "5etm2BAHCN6w"
   },
   "outputs": [],
   "source": [
    "color_train = colors_blindness[1]\n",
    "color_cal = colors_blindness[9]\n",
    "color_test = colors_blindness[7] #(0,0,0) #colors_blindness[4]"
   ]
  },
  {
   "cell_type": "markdown",
   "metadata": {
    "id": "LzM6s153CN6x"
   },
   "source": [
    "<h1 id=\"tocheading\">Table of Contents</h1>\n",
    "<div id=\"toc\"></div>\n",
    "\n",
    "1. [Data simulation: regression](#Data-simulation:-regression)\n",
    "1. [Standard regression](#Standard-regression)\n",
    "    1. [Data splitting](#data-splitting1)\n",
    "    1. [Data preparation](#data-preparation1)\n",
    "    1. [Fitting](#fitting1)\n",
    "    1. [Prediction](#prediction1)\n",
    "1. [Quantile regression](#Quantile-regression-(QR))\n",
    "    1. [Fitting](#fitting2)\n",
    "    1. [Prediction](#prediction2)\n",
    "1. [Split Conformal Prediction (SCP): standard regression](#Split-Conformal-Prediction-(SCP):-standard-regression)\n",
    "    1. [Data splitting & preparation](#data-splitting-(SCP))\n",
    "    1. [Defining a score](#defining-a-score-(SCP))\n",
    "    1. [Fitting](#fitting-(SCP))\n",
    "    1. [Calibration scores](#calibration-scores-(SCP))\n",
    "    1. [Prediction](#prediction-(SCP))\n",
    "    1. [Coverage](#coverage-(SCP))\n",
    "1. [Conformalized Quantile Regression (CQR)](#Conformalized-Quantile-Regression-(CQR))\n",
    "    1. [Fitting](#fitting-(CQR))\n",
    "    1. [Calibration scores](#calibration-scores-(CQR))\n",
    "    1. [Prediction](#prediction-(CQR))\n",
    "    1. [Coverage](#coverage-(CQR))\n",
    "      \n",
    "<!--1. [Split Conformal Prediction (SCP): classification](#Split-Conformal-(SCP):-classification)\n",
    "    1. [Data splitting](#data-splitting-(SCP)-classif)\n",
    "    1. [Data preparation](#data-preparation-(SCP)-classif)\n",
    "    1. [Defining a score](#defining-a-score-(SCP)-classif)\n",
    "    1. [Fitting](#fitting-(SCP)-classif)\n",
    "    1. [Calibration scores](#calibration-scores-(SCP)-classif)\n",
    "    1. [Prediction](#prediction-(SCP)-classif)\n",
    "1. [Conformalized Quantile Regression (CQR): classification](#Conformalized-Quantile-Regression-(CQR):-classification)\n",
    "    1. [Defining a score](#defining-a-score-(CQR)-classif)\n",
    "    1. [Fitting](#fitting-(CQR)-classif)\n",
    "    1. [Calibration scores](#calibration-scores-(CQR)-classif)\n",
    "    1. [Prediction](#prediction-(CQR)-classif)-->\n",
    "\n"
   ]
  },
  {
   "cell_type": "markdown",
   "metadata": {
    "id": "YKy-r1paCN6z"
   },
   "source": [
    "## Data simulation: regression\n",
    "\n",
    "<div class=\"alert alert-block alert-info\"> First we generate data $(X_i,Y_i)_i$ where $X_i \\sim \\mathcal{U}([0,1])$ and $Y_i\\in\\mathbb{R}$ (regression). </div> "
   ]
  },
  {
   "cell_type": "code",
   "execution_count": 30,
   "metadata": {
    "collapsed": true,
    "id": "5ZHP60nICN60"
   },
   "outputs": [],
   "source": [
    "np.random.seed(43)\n",
    "\n",
    "n = 300\n",
    "X = np.random.uniform(low=0,high=5,size=n)\n",
    "sigma = 1\n",
    "\n",
    "## Homoscedastic model\n",
    "# Y = np.cos(X) + sigma*np.random.normal(size=n)\n",
    "\n",
    "## Heteroscedastic model\n",
    "y = np.cos(X) + (1-np.cos(X))*sigma*np.random.normal(size=n)"
   ]
  },
  {
   "cell_type": "code",
   "execution_count": 31,
   "metadata": {
    "colab": {
     "base_uri": "https://localhost:8080/",
     "height": 449
    },
    "id": "zY9a6sK0CN61",
    "outputId": "64e074c5-3a37-46a9-f6f0-36538aa26af3"
   },
   "outputs": [
    {
     "data": {
      "image/png": "[encoded data removed]",
      "text/plain": [
       "<Figure size 640x480 with 1 Axes>"
      ]
     },
     "metadata": {},
     "output_type": "display_data"
    }
   ],
   "source": [
    "plt.scatter(X,y,marker='.')\n",
    "plt.xlabel(r'$X$')\n",
    "plt.ylabel(r'$Y$')\n",
    "plt.show()"
   ]
  },
  {
   "cell_type": "markdown",
   "metadata": {
    "id": "NJfxdgE_CN63"
   },
   "source": [
    "# \"Standard\" regression\n",
    "\n",
    "<div class=\"alert alert-block alert-info\"> In this section, we aim at training a \"standard\" predictor: a polynomial regressor. To do so, we apply a polynomial transform to the data before training a classical linear model. </div> \n",
    "\n",
    "\n",
    "<div id=\"data-splitting1\"> </div>\n",
    "\n",
    "## Data splitting\n",
    "\n"
   ]
  },
  {
   "cell_type": "code",
   "execution_count": 32,
   "metadata": {
    "collapsed": true,
    "id": "rvj9UGqVCN64"
   },
   "outputs": [],
   "source": [
    "from sklearn.model_selection import train_test_split\n",
    "\n",
    "X_train, X_test, y_train, y_test = train_test_split(X, y, \n",
    "                                                    test_size=0.33, \n",
    "                                                    random_state=42)"
   ]
  },
  {
   "cell_type": "markdown",
   "metadata": {
    "id": "XjLbCZJRCN66"
   },
   "source": [
    "<div id=\"data-preparation1\"> </div>\n",
    "\n",
    "## Data preparation"
   ]
  },
  {
   "cell_type": "code",
   "execution_count": 33,
   "metadata": {
    "collapsed": true,
    "id": "DNuom0A2CN67"
   },
   "outputs": [],
   "source": [
    "# Data preparation (embedding)\n",
    "\n",
    "from sklearn.preprocessing import PolynomialFeatures\n",
    "\n",
    "poly = PolynomialFeatures(4)\n",
    "Xpoly_train =  poly.fit_transform(X_train[:, np.newaxis]) # TODO OPERAND\n",
    "Xpoly_test  =  poly.fit_transform(X_test[:, np.newaxis])   # TODO OPERAND\n"
   ]
  },
  {
   "cell_type": "markdown",
   "metadata": {
    "id": "3TctEqDqCN68"
   },
   "source": [
    "<div id=\"fitting1\"> </div>\n",
    "\n",
    "## Fitting"
   ]
  },
  {
   "cell_type": "code",
   "execution_count": 34,
   "metadata": {
    "colab": {
     "base_uri": "https://localhost:8080/",
     "height": 74
    },
    "id": "v8icLKXyCN68",
    "outputId": "6214be0d-1b0b-4310-ad09-5728854201cc"
   },
   "outputs": [
    {
     "data": {
      "text/html": [
       "<style>#sk-container-id-3 {color: black;background-color: white;}#sk-container-id-3 pre{padding: 0;}#sk-container-id-3 div.sk-toggleable {background-color: white;}#sk-container-id-3 label.sk-toggleable__label {cursor: pointer;display: block;width: 100%;margin-bottom: 0;padding: 0.3em;box-sizing: border-box;text-align: center;}#sk-container-id-3 label.sk-toggleable__label-arrow:before {content: \"▸\";float: left;margin-right: 0.25em;color: #696969;}#sk-container-id-3 label.sk-toggleable__label-arrow:hover:before {color: black;}#sk-container-id-3 div.sk-estimator:hover label.sk-toggleable__label-arrow:before {color: black;}#sk-container-id-3 div.sk-toggleable__content {max-height: 0;max-width: 0;overflow: hidden;text-align: left;background-color: #f0f8ff;}#sk-container-id-3 div.sk-toggleable__content pre {margin: 0.2em;color: black;border-radius: 0.25em;background-color: #f0f8ff;}#sk-container-id-3 input.sk-toggleable__control:checked~div.sk-toggleable__content {max-height: 200px;max-width: 100%;overflow: auto;}#sk-container-id-3 input.sk-toggleable__control:checked~label.sk-toggleable__label-arrow:before {content: \"▾\";}#sk-container-id-3 div.sk-estimator input.sk-toggleable__control:checked~label.sk-toggleable__label {background-color: #d4ebff;}#sk-container-id-3 div.sk-label input.sk-toggleable__control:checked~label.sk-toggleable__label {background-color: #d4ebff;}#sk-container-id-3 input.sk-hidden--visually {border: 0;clip: rect(1px 1px 1px 1px);clip: rect(1px, 1px, 1px, 1px);height: 1px;margin: -1px;overflow: hidden;padding: 0;position: absolute;width: 1px;}#sk-container-id-3 div.sk-estimator {font-family: monospace;background-color: #f0f8ff;border: 1px dotted black;border-radius: 0.25em;box-sizing: border-box;margin-bottom: 0.5em;}#sk-container-id-3 div.sk-estimator:hover {background-color: #d4ebff;}#sk-container-id-3 div.sk-parallel-item::after {content: \"\";width: 100%;border-bottom: 1px solid gray;flex-grow: 1;}#sk-container-id-3 div.sk-label:hover label.sk-toggleable__label {background-color: #d4ebff;}#sk-container-id-3 div.sk-serial::before {content: \"\";position: absolute;border-left: 1px solid gray;box-sizing: border-box;top: 0;bottom: 0;left: 50%;z-index: 0;}#sk-container-id-3 div.sk-serial {display: flex;flex-direction: column;align-items: center;background-color: white;padding-right: 0.2em;padding-left: 0.2em;position: relative;}#sk-container-id-3 div.sk-item {position: relative;z-index: 1;}#sk-container-id-3 div.sk-parallel {display: flex;align-items: stretch;justify-content: center;background-color: white;position: relative;}#sk-container-id-3 div.sk-item::before, #sk-container-id-3 div.sk-parallel-item::before {content: \"\";position: absolute;border-left: 1px solid gray;box-sizing: border-box;top: 0;bottom: 0;left: 50%;z-index: -1;}#sk-container-id-3 div.sk-parallel-item {display: flex;flex-direction: column;z-index: 1;position: relative;background-color: white;}#sk-container-id-3 div.sk-parallel-item:first-child::after {align-self: flex-end;width: 50%;}#sk-container-id-3 div.sk-parallel-item:last-child::after {align-self: flex-start;width: 50%;}#sk-container-id-3 div.sk-parallel-item:only-child::after {width: 0;}#sk-container-id-3 div.sk-dashed-wrapped {border: 1px dashed gray;margin: 0 0.4em 0.5em 0.4em;box-sizing: border-box;padding-bottom: 0.4em;background-color: white;}#sk-container-id-3 div.sk-label label {font-family: monospace;font-weight: bold;display: inline-block;line-height: 1.2em;}#sk-container-id-3 div.sk-label-container {text-align: center;}#sk-container-id-3 div.sk-container {/* jupyter's `normalize.less` sets `[hidden] { display: none; }` but bootstrap.min.css set `[hidden] { display: none !important; }` so we also need the `!important` here to be able to override the default hidden behavior on the sphinx rendered scikit-learn.org. See: https://github.com/scikit-learn/scikit-learn/issues/21755 */display: inline-block !important;position: relative;}#sk-container-id-3 div.sk-text-repr-fallback {display: none;}</style><div id=\"sk-container-id-3\" class=\"sk-top-container\"><div class=\"sk-text-repr-fallback\"><pre>LinearRegression(fit_intercept=False)</pre><b>In a Jupyter environment, please rerun this cell to show the HTML representation or trust the notebook. <br />On GitHub, the HTML representation is unable to render, please try loading this page with nbviewer.org.</b></div><div class=\"sk-container\" hidden><div class=\"sk-item\"><div class=\"sk-estimator sk-toggleable\"><input class=\"sk-toggleable__control sk-hidden--visually\" id=\"sk-estimator-id-3\" type=\"checkbox\" checked><label for=\"sk-estimator-id-3\" class=\"sk-toggleable__label sk-toggleable__label-arrow\">LinearRegression</label><div class=\"sk-toggleable__content\"><pre>LinearRegression(fit_intercept=False)</pre></div></div></div></div></div>"
      ],
      "text/plain": [
       "LinearRegression(fit_intercept=False)"
      ]
     },
     "execution_count": 34,
     "metadata": {},
     "output_type": "execute_result"
    }
   ],
   "source": [
    "from sklearn.linear_model import LinearRegression\n",
    "\n",
    "linear_reg = LinearRegression(fit_intercept=False)\n",
    "\n",
    "# Fit linear regression\n",
    "#\n",
    "linear_reg.fit(Xpoly_train,y_train) #TODO LINE\n",
    "#\n"
   ]
  },
  {
   "cell_type": "markdown",
   "metadata": {
    "id": "6ZP78dHACN69"
   },
   "source": [
    "<div id=\"prediction1\"></div>\n",
    "\n",
    "## Prediction"
   ]
  },
  {
   "cell_type": "code",
   "execution_count": 35,
   "metadata": {
    "colab": {
     "base_uri": "https://localhost:8080/",
     "height": 449
    },
    "id": "6O-AJ51_CN69",
    "outputId": "7a154eba-2ef5-4bf9-bca1-c4f26ecbfb39"
   },
   "outputs": [
    {
     "data": {
      "image/png": "[encoded data removed]",
      "text/plain": [
       "<Figure size 640x480 with 1 Axes>"
      ]
     },
     "metadata": {},
     "output_type": "display_data"
    }
   ],
   "source": [
    "# Visualization\n",
    "plt.scatter(X_train,y_train,marker='.',color=color_train,label=\"Train\")\n",
    "plt.scatter(X_test,y_test,marker='.',color=color_test,label=\"Test\")\n",
    "aux = np.linspace(0,5,500)\n",
    "auxpoly = poly.fit_transform(aux[:, np.newaxis])\n",
    "plt.plot(aux,linear_reg.predict(auxpoly),color=color_train,label=\"Estimation\")\n",
    "plt.legend()\n",
    "plt.xlabel(r'$X$')\n",
    "plt.ylabel(r'$Y$')\n",
    "send(plt, 1)\n",
    "plt.show()\n"
   ]
  },
  {
   "cell_type": "code",
   "execution_count": 38,
   "metadata": {
    "colab": {
     "base_uri": "https://localhost:8080/"
    },
    "id": "3cv4DNcACN6-",
    "outputId": "a285185b-292a-4313-b199-828b8ff38df9"
   },
   "outputs": [
    {
     "name": "stdout",
     "output_type": "stream",
     "text": [
      "R2 for linear regression (polynomial features):  0.014055202278444479\n",
      "RMSE for linear regression (polynomial features):  1.3694232362095446\n",
      "RMSE for mean predictor:  1.408447045275046\n"
     ]
    }
   ],
   "source": [
    "# Some metrics of performance\n",
    "y_pred = linear_reg.predict(Xpoly_test)\n",
    "Rtwo_linear_reg = linear_reg.score(Xpoly_test,y_test)\n",
    "print(\"R2 for linear regression (polynomial features): \",Rtwo_linear_reg)\n",
    "RMSE_linear_reg = np.sqrt(np.mean((y_pred-y_test)**2))\n",
    "print(\"RMSE for linear regression (polynomial features): \",RMSE_linear_reg)\n",
    "RMSE_mean = np.sqrt(np.mean((np.mean(y_train)-y_test)**2))\n",
    "print(\"RMSE for mean predictor: \",RMSE_mean)"
   ]
  },
  {
   "cell_type": "markdown",
   "metadata": {
    "id": "5V7rqaJZCN6-"
   },
   "source": [
    "<div class=\"alert alert-block alert-success\"> The polynomial regressor remains relevant compared to the baseline (mean predictor).  </div>"
   ]
  },
  {
   "cell_type": "markdown",
   "metadata": {
    "id": "FMQs397kCN6_"
   },
   "source": [
    "# Quantile regression (QR) \n",
    "\n",
    "<div class=\"alert alert-block alert-info\"> \n",
    "    Quantile regression is a statistical technique used to estimate the conditional quantiles of a response variable given a set of predictor variables. Unlike traditional regression models that estimate the conditional mean of the response variable, quantile regression estimates the conditional median or other quantiles of the response variable.\n",
    "For a quantile level $\\beta$, learning a quantile regressor amounts to changing the risk to be minimized:\n",
    "$\n",
    "\\begin{align}\n",
    "\\text{Risk}_{\\beta}(f) = \\mathbb{E}\\left[ \\text{pinball}_{\\beta}(Y, f(X)) \\right]\n",
    "\\end{align}\n",
    "$\n",
    "</div> \n",
    "    \n",
    "<div class=\"alert alert-block alert-info\"> In the following blocks, train two quantile regressors with quantile levels 0.05 and 0.95.\n",
    "</div> \n",
    "\n",
    "\n",
    "\n",
    "<div id=\"fitting2\"></div>\n",
    "\n",
    "## Fitting (QR)\n",
    "\n"
   ]
  },
  {
   "cell_type": "code",
   "execution_count": 39,
   "metadata": {
    "colab": {
     "base_uri": "https://localhost:8080/",
     "height": 74
    },
    "id": "w3jUIOGyCN7A",
    "outputId": "2006d0c8-d188-463a-af7e-2035aecf9175"
   },
   "outputs": [
    {
     "data": {
      "text/html": [
       "<style>#sk-container-id-4 {color: black;background-color: white;}#sk-container-id-4 pre{padding: 0;}#sk-container-id-4 div.sk-toggleable {background-color: white;}#sk-container-id-4 label.sk-toggleable__label {cursor: pointer;display: block;width: 100%;margin-bottom: 0;padding: 0.3em;box-sizing: border-box;text-align: center;}#sk-container-id-4 label.sk-toggleable__label-arrow:before {content: \"▸\";float: left;margin-right: 0.25em;color: #696969;}#sk-container-id-4 label.sk-toggleable__label-arrow:hover:before {color: black;}#sk-container-id-4 div.sk-estimator:hover label.sk-toggleable__label-arrow:before {color: black;}#sk-container-id-4 div.sk-toggleable__content {max-height: 0;max-width: 0;overflow: hidden;text-align: left;background-color: #f0f8ff;}#sk-container-id-4 div.sk-toggleable__content pre {margin: 0.2em;color: black;border-radius: 0.25em;background-color: #f0f8ff;}#sk-container-id-4 input.sk-toggleable__control:checked~div.sk-toggleable__content {max-height: 200px;max-width: 100%;overflow: auto;}#sk-container-id-4 input.sk-toggleable__control:checked~label.sk-toggleable__label-arrow:before {content: \"▾\";}#sk-container-id-4 div.sk-estimator input.sk-toggleable__control:checked~label.sk-toggleable__label {background-color: #d4ebff;}#sk-container-id-4 div.sk-label input.sk-toggleable__control:checked~label.sk-toggleable__label {background-color: #d4ebff;}#sk-container-id-4 input.sk-hidden--visually {border: 0;clip: rect(1px 1px 1px 1px);clip: rect(1px, 1px, 1px, 1px);height: 1px;margin: -1px;overflow: hidden;padding: 0;position: absolute;width: 1px;}#sk-container-id-4 div.sk-estimator {font-family: monospace;background-color: #f0f8ff;border: 1px dotted black;border-radius: 0.25em;box-sizing: border-box;margin-bottom: 0.5em;}#sk-container-id-4 div.sk-estimator:hover {background-color: #d4ebff;}#sk-container-id-4 div.sk-parallel-item::after {content: \"\";width: 100%;border-bottom: 1px solid gray;flex-grow: 1;}#sk-container-id-4 div.sk-label:hover label.sk-toggleable__label {background-color: #d4ebff;}#sk-container-id-4 div.sk-serial::before {content: \"\";position: absolute;border-left: 1px solid gray;box-sizing: border-box;top: 0;bottom: 0;left: 50%;z-index: 0;}#sk-container-id-4 div.sk-serial {display: flex;flex-direction: column;align-items: center;background-color: white;padding-right: 0.2em;padding-left: 0.2em;position: relative;}#sk-container-id-4 div.sk-item {position: relative;z-index: 1;}#sk-container-id-4 div.sk-parallel {display: flex;align-items: stretch;justify-content: center;background-color: white;position: relative;}#sk-container-id-4 div.sk-item::before, #sk-container-id-4 div.sk-parallel-item::before {content: \"\";position: absolute;border-left: 1px solid gray;box-sizing: border-box;top: 0;bottom: 0;left: 50%;z-index: -1;}#sk-container-id-4 div.sk-parallel-item {display: flex;flex-direction: column;z-index: 1;position: relative;background-color: white;}#sk-container-id-4 div.sk-parallel-item:first-child::after {align-self: flex-end;width: 50%;}#sk-container-id-4 div.sk-parallel-item:last-child::after {align-self: flex-start;width: 50%;}#sk-container-id-4 div.sk-parallel-item:only-child::after {width: 0;}#sk-container-id-4 div.sk-dashed-wrapped {border: 1px dashed gray;margin: 0 0.4em 0.5em 0.4em;box-sizing: border-box;padding-bottom: 0.4em;background-color: white;}#sk-container-id-4 div.sk-label label {font-family: monospace;font-weight: bold;display: inline-block;line-height: 1.2em;}#sk-container-id-4 div.sk-label-container {text-align: center;}#sk-container-id-4 div.sk-container {/* jupyter's `normalize.less` sets `[hidden] { display: none; }` but bootstrap.min.css set `[hidden] { display: none !important; }` so we also need the `!important` here to be able to override the default hidden behavior on the sphinx rendered scikit-learn.org. See: https://github.com/scikit-learn/scikit-learn/issues/21755 */display: inline-block !important;position: relative;}#sk-container-id-4 div.sk-text-repr-fallback {display: none;}</style><div id=\"sk-container-id-4\" class=\"sk-top-container\"><div class=\"sk-text-repr-fallback\"><pre>QuantileRegressor(alpha=0, solver=&#x27;highs&#x27;)</pre><b>In a Jupyter environment, please rerun this cell to show the HTML representation or trust the notebook. <br />On GitHub, the HTML representation is unable to render, please try loading this page with nbviewer.org.</b></div><div class=\"sk-container\" hidden><div class=\"sk-item\"><div class=\"sk-estimator sk-toggleable\"><input class=\"sk-toggleable__control sk-hidden--visually\" id=\"sk-estimator-id-4\" type=\"checkbox\" checked><label for=\"sk-estimator-id-4\" class=\"sk-toggleable__label sk-toggleable__label-arrow\">QuantileRegressor</label><div class=\"sk-toggleable__content\"><pre>QuantileRegressor(alpha=0, solver=&#x27;highs&#x27;)</pre></div></div></div></div></div>"
      ],
      "text/plain": [
       "QuantileRegressor(alpha=0, solver='highs')"
      ]
     },
     "execution_count": 39,
     "metadata": {},
     "output_type": "execute_result"
    }
   ],
   "source": [
    "from sklearn.linear_model import QuantileRegressor\n",
    "\n",
    "from sklearn.utils.fixes import sp_version, parse_version\n",
    "\n",
    "## a good idea is to update scipy (!) to avoid problem of convergence\n",
    "solver = \"highs\" if sp_version >= parse_version(\"1.6.0\") else \"interior-point\"\n",
    "\n",
    "beta = 0.1\n",
    "qr_down = QuantileRegressor(quantile=beta/2, alpha=0,solver='highs')\n",
    "qr_up = QuantileRegressor(quantile=1-beta/2, alpha=0,solver='highs')\n",
    "qr_med = QuantileRegressor(quantile=0.5, alpha=0,solver='highs')\n",
    "\n",
    "# Fit Upper and Lower Quantile regression and median\n",
    "qr_down.fit(Xpoly_train, y_train) #TODO LINE\n",
    "qr_up.fit(Xpoly_train, y_train)   #TODO LINE\n",
    "qr_med.fit(Xpoly_train, y_train)  #TODO LINE\n",
    "\n"
   ]
  },
  {
   "cell_type": "markdown",
   "metadata": {
    "id": "kGQELFJECN7A"
   },
   "source": [
    "<div id=\"prediction2\"></div>\n",
    "\n",
    "## Prediction (QR) "
   ]
  },
  {
   "cell_type": "code",
   "execution_count": 40,
   "metadata": {
    "colab": {
     "base_uri": "https://localhost:8080/",
     "height": 449
    },
    "id": "hl2HJCZ2CN7A",
    "outputId": "3e47854a-28ba-4d8d-cf44-a0911e23820a"
   },
   "outputs": [
    {
     "data": {
      "image/png": "[encoded data removed]",
      "text/plain": [
       "<Figure size 640x480 with 1 Axes>"
      ]
     },
     "metadata": {},
     "output_type": "display_data"
    }
   ],
   "source": [
    "plt.plot(aux,qr_up.predict(auxpoly),'--',color=color_train,label=\"q sup\")\n",
    "plt.plot(aux,qr_down.predict(auxpoly),'--',color=color_train,label=\"q inf\")\n",
    "plt.plot(aux,qr_med.predict(auxpoly),'-',color=color_train,label=\"median\")\n",
    "plt.plot(aux,linear_reg.predict(auxpoly),'-',color=color_test,label=\"poly reg\")\n",
    "plt.scatter(X_test,y_test,marker='.',color=color_test,zorder=2)\n",
    "plt.xlabel(r'$X$')\n",
    "plt.ylabel(r'$Y$')\n",
    "plt.legend()\n",
    "send(plt, 2)\n",
    "#plt.savefig('quantile_reg.pdf', bbox_inches='tight',dpi=300)\n",
    "plt.show()"
   ]
  },
  {
   "cell_type": "markdown",
   "metadata": {
    "id": "3Ac47oaTCN7B"
   },
   "source": [
    "## What about coverage? (QR)"
   ]
  },
  {
   "cell_type": "code",
   "execution_count": 41,
   "metadata": {
    "collapsed": true,
    "id": "uN8tjlm0CN7C"
   },
   "outputs": [],
   "source": [
    "y_up_train = qr_up.predict(Xpoly_train)\n",
    "y_up_test = qr_up.predict(Xpoly_test)\n",
    "y_down_train = qr_down.predict(Xpoly_train)\n",
    "y_down_test = qr_down.predict(Xpoly_test)"
   ]
  },
  {
   "cell_type": "code",
   "execution_count": 42,
   "metadata": {
    "colab": {
     "base_uri": "https://localhost:8080/"
    },
    "collapsed": true,
    "id": "lLru5w3rCN7C",
    "outputId": "d15364f0-9197-4aba-e289-7a1c3e0e60f3"
   },
   "outputs": [
    {
     "name": "stdout",
     "output_type": "stream",
     "text": [
      "Theoretical coverage:  0.9\n",
      "Empirical coverage with QR:  0.8585858585858586\n"
     ]
    },
    {
     "data": {
      "text/plain": [
       "<Response [200]>"
      ]
     },
     "execution_count": 42,
     "metadata": {},
     "output_type": "execute_result"
    }
   ],
   "source": [
    "# Count how many times the true label was indeed \n",
    "# in the prediction interval on the test set\n",
    "\n",
    "\n",
    "\n",
    "# Compute and print theoretical and empirical coverage\n",
    "theor_cov = 1-beta # TODO OPERAND\n",
    "\n",
    "prop_covered_qr  = np.sum((y_down_test<=y_test)*(y_test<=y_up_test))/len(y_test) # TODO OPERAND\n",
    "\n",
    "print(\"Theoretical coverage: \", theor_cov)\n",
    "print(\"Empirical coverage with QR: \", prop_covered_qr)\n",
    "\n",
    "send([\"Theoretical coverage: \", theor_cov], 3)\n",
    "send([\"Empirical coverage: \", prop_covered_qr], 4)"
   ]
  },
  {
   "cell_type": "markdown",
   "metadata": {
    "id": "MxeIzHtDCN7C"
   },
   "source": [
    "<div class=\"alert alert-block alert-success\"> The main advantage of quantile regression is that it provides a more complete picture of the relationship between the predictor variables and the response variable, especially in cases where the conditional distribution of the response variable is not symmetric\n",
    "the tails of the distribution are of interest.\n",
    "    \n",
    "  While it has many strengths, there are also several limitations to consider when using this approach:\n",
    "\n",
    "<ul>\n",
    "    <li>Limited to Continuous Outcomes: Quantile regression is limited to modeling the relationship between a predictor variable and a continuous outcome variable, so it cannot be used for categorical or binary outcomes.</li>\n",
    "    <li> Interpretation of Results: The interpretation of results can be challenging, especially for non-statisticians. Each quantile corresponds to a different conditional distribution of the outcome variable, which can make it difficult to summarize the overall effect of a predictor on the outcome.</li>\n",
    "    <li> Sample Size: A large sample size is required for accurate estimation of the regression coefficients for each quantile. When the sample size is small, the estimates can be imprecise and unreliable.</li> \n",
    "    <li> Covariate Selection: Choosing which covariates to include in the model can be challenging, as the relationship between the outcome variable and each covariate may vary across different quantiles. It is recommended to use an iterative approach to model selection, considering both statistical significance and practical significance of the covariates.</li>\n",
    "    </ul>\n",
    "\n",
    "</div>"
   ]
  },
  {
   "cell_type": "markdown",
   "metadata": {
    "id": "68OuWmN0CN7D"
   },
   "source": [
    "# Split Conformal Prediction (SCP): regression\n",
    "\n",
    "<div class=\"alert alert-block alert-info\">  The split conformal prediction procedure is a method for constructing prediction intervals for a new observation based on a training dataset. It involves splitting the training dataset into two parts: a <b>calibration</b> set and a <b>proper training</b> set.\n",
    "    <ul>\n",
    "        <li> The proper training set is used to train the model. </li> \n",
    "        <li> The <b>calibration</b> set is used to estimate the distribution of the error of the model. </li>\n",
    "    </ul>\n",
    "    <br>\n",
    "    <br>\n",
    "    The prediction interval is then constructed by combining the estimated error distribution with the prediction of the model for the new observation. This procedure ensures that the prediction interval is valid in the sense that it contains the true value of the new observation with a certain probability. \n",
    "</div>"
   ]
  },
  {
   "cell_type": "markdown",
   "metadata": {
    "id": "2osbSn3pCN7D"
   },
   "source": [
    "<div id=\"data-splitting-(SCP)\"> </div>\n",
    "\n",
    "## Data splitting (need of a calibration set) + preparation (SCP)\n"
   ]
  },
  {
   "cell_type": "code",
   "execution_count": 43,
   "metadata": {
    "collapsed": true,
    "id": "zJ7_JCnVCN7D"
   },
   "outputs": [],
   "source": [
    "from sklearn.model_selection import train_test_split\n",
    "\n",
    "# Data splitting (achtung: overwriting on train data)\n",
    "X_train, X_cal, y_train, y_cal = train_test_split(X_train, y_train, \n",
    "                                                  test_size=0.25, \n",
    "                                                  random_state=42)\n",
    "Xpoly_train = poly.fit_transform(X_train[:, np.newaxis])\n",
    "Xpoly_cal = poly.fit_transform(X_cal[:, np.newaxis])\n"
   ]
  },
  {
   "cell_type": "code",
   "execution_count": 44,
   "metadata": {
    "colab": {
     "base_uri": "https://localhost:8080/",
     "height": 449
    },
    "collapsed": true,
    "id": "ItdLaRu8CN7D",
    "outputId": "11d66b1f-e038-4ff5-e067-db308b4ac80e",
    "scrolled": true
   },
   "outputs": [
    {
     "data": {
      "image/png": "[encoded data removed]",
      "text/plain": [
       "<Figure size 640x480 with 1 Axes>"
      ]
     },
     "metadata": {},
     "output_type": "display_data"
    }
   ],
   "source": [
    "# Visualization\n",
    "\n",
    "plt.figure()\n",
    "plt.scatter(X_train,y_train,marker='.',color=color_train,label=\"Train\")\n",
    "plt.scatter(X_cal,y_cal,marker='.',color=color_cal,label=\"Cal\")\n",
    "plt.scatter(X_test,y_test,marker='.',color=color_test,label=\"Test\")\n",
    "plt.legend(loc=(1.04, 0.25))\n",
    "plt.xlabel(r'$X$')\n",
    "plt.ylabel(r'$Y$')\n",
    "plt.show()"
   ]
  },
  {
   "cell_type": "markdown",
   "metadata": {
    "id": "sjlxDKsVCN7E"
   },
   "source": [
    "<div id=\"defining-a-score-(SCP)\"> </div>\n",
    "\n",
    "## Defining a score (SCP)"
   ]
  },
  {
   "cell_type": "code",
   "execution_count": 45,
   "metadata": {
    "colab": {
     "base_uri": "https://localhost:8080/"
    },
    "id": "uSappQogCN7F",
    "outputId": "2f95b2df-8029-491b-df78-25edc19dd4fc"
   },
   "outputs": [
    {
     "data": {
      "text/plain": [
       "<Response [200]>"
      ]
     },
     "execution_count": 45,
     "metadata": {},
     "output_type": "execute_result"
    }
   ],
   "source": [
    "def my_score(y_pred, y):\n",
    "    #\n",
    "    return np.abs(y_pred - y)  #TODO LINE\n",
    "    #\n",
    "\n",
    "\n",
    "send(my_score, 5)"
   ]
  },
  {
   "cell_type": "markdown",
   "metadata": {
    "id": "_z03_ts_CN7F"
   },
   "source": [
    "<div id=\"fitting-(SCP)\"> </div>\n",
    "\n",
    "## Fitting (SCP)"
   ]
  },
  {
   "cell_type": "code",
   "execution_count": 46,
   "metadata": {
    "colab": {
     "base_uri": "https://localhost:8080/",
     "height": 74
    },
    "id": "JMtpNCpgCN7G",
    "outputId": "1d3560cd-95cb-4350-92ee-c61ab773d929"
   },
   "outputs": [
    {
     "data": {
      "text/html": [
       "<style>#sk-container-id-5 {color: black;background-color: white;}#sk-container-id-5 pre{padding: 0;}#sk-container-id-5 div.sk-toggleable {background-color: white;}#sk-container-id-5 label.sk-toggleable__label {cursor: pointer;display: block;width: 100%;margin-bottom: 0;padding: 0.3em;box-sizing: border-box;text-align: center;}#sk-container-id-5 label.sk-toggleable__label-arrow:before {content: \"▸\";float: left;margin-right: 0.25em;color: #696969;}#sk-container-id-5 label.sk-toggleable__label-arrow:hover:before {color: black;}#sk-container-id-5 div.sk-estimator:hover label.sk-toggleable__label-arrow:before {color: black;}#sk-container-id-5 div.sk-toggleable__content {max-height: 0;max-width: 0;overflow: hidden;text-align: left;background-color: #f0f8ff;}#sk-container-id-5 div.sk-toggleable__content pre {margin: 0.2em;color: black;border-radius: 0.25em;background-color: #f0f8ff;}#sk-container-id-5 input.sk-toggleable__control:checked~div.sk-toggleable__content {max-height: 200px;max-width: 100%;overflow: auto;}#sk-container-id-5 input.sk-toggleable__control:checked~label.sk-toggleable__label-arrow:before {content: \"▾\";}#sk-container-id-5 div.sk-estimator input.sk-toggleable__control:checked~label.sk-toggleable__label {background-color: #d4ebff;}#sk-container-id-5 div.sk-label input.sk-toggleable__control:checked~label.sk-toggleable__label {background-color: #d4ebff;}#sk-container-id-5 input.sk-hidden--visually {border: 0;clip: rect(1px 1px 1px 1px);clip: rect(1px, 1px, 1px, 1px);height: 1px;margin: -1px;overflow: hidden;padding: 0;position: absolute;width: 1px;}#sk-container-id-5 div.sk-estimator {font-family: monospace;background-color: #f0f8ff;border: 1px dotted black;border-radius: 0.25em;box-sizing: border-box;margin-bottom: 0.5em;}#sk-container-id-5 div.sk-estimator:hover {background-color: #d4ebff;}#sk-container-id-5 div.sk-parallel-item::after {content: \"\";width: 100%;border-bottom: 1px solid gray;flex-grow: 1;}#sk-container-id-5 div.sk-label:hover label.sk-toggleable__label {background-color: #d4ebff;}#sk-container-id-5 div.sk-serial::before {content: \"\";position: absolute;border-left: 1px solid gray;box-sizing: border-box;top: 0;bottom: 0;left: 50%;z-index: 0;}#sk-container-id-5 div.sk-serial {display: flex;flex-direction: column;align-items: center;background-color: white;padding-right: 0.2em;padding-left: 0.2em;position: relative;}#sk-container-id-5 div.sk-item {position: relative;z-index: 1;}#sk-container-id-5 div.sk-parallel {display: flex;align-items: stretch;justify-content: center;background-color: white;position: relative;}#sk-container-id-5 div.sk-item::before, #sk-container-id-5 div.sk-parallel-item::before {content: \"\";position: absolute;border-left: 1px solid gray;box-sizing: border-box;top: 0;bottom: 0;left: 50%;z-index: -1;}#sk-container-id-5 div.sk-parallel-item {display: flex;flex-direction: column;z-index: 1;position: relative;background-color: white;}#sk-container-id-5 div.sk-parallel-item:first-child::after {align-self: flex-end;width: 50%;}#sk-container-id-5 div.sk-parallel-item:last-child::after {align-self: flex-start;width: 50%;}#sk-container-id-5 div.sk-parallel-item:only-child::after {width: 0;}#sk-container-id-5 div.sk-dashed-wrapped {border: 1px dashed gray;margin: 0 0.4em 0.5em 0.4em;box-sizing: border-box;padding-bottom: 0.4em;background-color: white;}#sk-container-id-5 div.sk-label label {font-family: monospace;font-weight: bold;display: inline-block;line-height: 1.2em;}#sk-container-id-5 div.sk-label-container {text-align: center;}#sk-container-id-5 div.sk-container {/* jupyter's `normalize.less` sets `[hidden] { display: none; }` but bootstrap.min.css set `[hidden] { display: none !important; }` so we also need the `!important` here to be able to override the default hidden behavior on the sphinx rendered scikit-learn.org. See: https://github.com/scikit-learn/scikit-learn/issues/21755 */display: inline-block !important;position: relative;}#sk-container-id-5 div.sk-text-repr-fallback {display: none;}</style><div id=\"sk-container-id-5\" class=\"sk-top-container\"><div class=\"sk-text-repr-fallback\"><pre>LinearRegression(fit_intercept=False)</pre><b>In a Jupyter environment, please rerun this cell to show the HTML representation or trust the notebook. <br />On GitHub, the HTML representation is unable to render, please try loading this page with nbviewer.org.</b></div><div class=\"sk-container\" hidden><div class=\"sk-item\"><div class=\"sk-estimator sk-toggleable\"><input class=\"sk-toggleable__control sk-hidden--visually\" id=\"sk-estimator-id-5\" type=\"checkbox\" checked><label for=\"sk-estimator-id-5\" class=\"sk-toggleable__label sk-toggleable__label-arrow\">LinearRegression</label><div class=\"sk-toggleable__content\"><pre>LinearRegression(fit_intercept=False)</pre></div></div></div></div></div>"
      ],
      "text/plain": [
       "LinearRegression(fit_intercept=False)"
      ]
     },
     "execution_count": 46,
     "metadata": {},
     "output_type": "execute_result"
    }
   ],
   "source": [
    "linear_reg = LinearRegression(fit_intercept=False)\n",
    "linear_reg.fit(Xpoly_train,y_train)"
   ]
  },
  {
   "cell_type": "markdown",
   "metadata": {
    "id": "PkYFcUI4CN7G"
   },
   "source": [
    "<div id=\"calibration-scores-(SCP)\"> </div>\n",
    "\n",
    "## Calibration scores (SCP)\n",
    "\n",
    "Compute the calibration scores on the calibration set, and the associated quantile."
   ]
  },
  {
   "cell_type": "code",
   "execution_count": 47,
   "metadata": {
    "colab": {
     "base_uri": "https://localhost:8080/"
    },
    "id": "hs5G6F8WCN7H",
    "outputId": "2a494d36-f983-47b8-8c80-9a912c9c35fa"
   },
   "outputs": [
    {
     "data": {
      "text/plain": [
       "<Response [200]>"
      ]
     },
     "execution_count": 47,
     "metadata": {},
     "output_type": "execute_result"
    }
   ],
   "source": [
    "residuals_cal = my_score(linear_reg.predict(Xpoly_cal),y_cal) # TODO OPERAND\n",
    "n_cal = len(y_cal)                                            # TODO OPERAND\n",
    "quantile_scp = np.quantile(residuals_cal,np.ceil((1-beta)*(n_cal+1))/n_cal)# TODO OPERAND\n",
    "\n",
    "send(residuals_cal, 6)\n",
    "send(n_cal, 7)\n",
    "send([\"quantile_scp\",quantile_scp], 8)"
   ]
  },
  {
   "cell_type": "markdown",
   "metadata": {
    "id": "97g-VCkwCN7H"
   },
   "source": [
    "<div id=\"prediction-(SCP)\"> </div>\n",
    "\n",
    "## Prediction (SCP)\n",
    "\n",
    "Plot the prediction interval on the test set using the functions 'plot' and 'fill_between' of matplotlib.  "
   ]
  },
  {
   "cell_type": "code",
   "execution_count": 48,
   "metadata": {
    "colab": {
     "base_uri": "https://localhost:8080/",
     "height": 449
    },
    "id": "RlrxILonCN7H",
    "outputId": "4ad67437-55d5-4e18-e42f-de304ec2407a"
   },
   "outputs": [
    {
     "data": {
      "image/png": "[encoded data removed]",
      "text/plain": [
       "<Figure size 640x480 with 1 Axes>"
      ]
     },
     "metadata": {},
     "output_type": "display_data"
    }
   ],
   "source": [
    "plt.scatter(X_test,y_test,marker='.',color=color_test,zorder=2, s=50)\n",
    "\n",
    "# Compute y_pred_test\n",
    "y_pred_test = linear_reg.predict(Xpoly_test) ### TODO OPERAND\n",
    "\n",
    "### TODO BLOCK\n",
    "plt.plot(X_test[np.argsort(X_test)],y_pred_test[np.argsort(X_test)],color=color_train)\n",
    "plt.fill_between(X_test[np.argsort(X_test)],\n",
    "                 y_pred_test[np.argsort(X_test)]+quantile_scp,\n",
    "                 y_pred_test[np.argsort(X_test)]-quantile_scp,\n",
    "                 fc=color_cal,alpha=.3)\n",
    "### END TODO BLOCK\n",
    "plt.xlabel(r'$X$')\n",
    "plt.ylabel(r'$Y$')\n",
    "send(plt, 9)\n",
    "plt.show()\n"
   ]
  },
  {
   "cell_type": "markdown",
   "metadata": {
    "id": "rAojRmeSCN7I"
   },
   "source": [
    "<div id=\"coverage-(SCP)\"> </div>\n",
    "\n",
    "## Coverage (SCP)"
   ]
  },
  {
   "cell_type": "code",
   "execution_count": 49,
   "metadata": {
    "colab": {
     "base_uri": "https://localhost:8080/"
    },
    "collapsed": true,
    "id": "dYDHFkkvCN7I",
    "outputId": "7ad7f400-ac3a-4aa2-c37d-13ca74150763"
   },
   "outputs": [
    {
     "name": "stdout",
     "output_type": "stream",
     "text": [
      "Theoretical coverage:  0.9\n",
      "Empirical coverage with QR:  0.8585858585858586\n",
      "Empirical coverage with SCP:  0.9393939393939394\n"
     ]
    },
    {
     "data": {
      "text/plain": [
       "<Response [200]>"
      ]
     },
     "execution_count": 49,
     "metadata": {},
     "output_type": "execute_result"
    }
   ],
   "source": [
    "# Count how many times the true label was indeed \n",
    "# in the prediction interval on the test set\n",
    "\n",
    "prop_covered_scp = np.sum(((y_pred_test-quantile_scp)<=y_test)*(y_test<=(y_pred_test+quantile_scp)))/len(y_test) #TODO OPERAND\n",
    "\n",
    "# Print coverages\n",
    "print(\"Theoretical coverage: \",1-beta)\n",
    "print(\"Empirical coverage with QR: \",prop_covered_qr)\n",
    "print(\"Empirical coverage with SCP: \",prop_covered_scp) \n",
    "\n",
    "send([\"Theoretical / Empirical QR / Empirical SCP\",1-beta,prop_covered_qr,prop_covered_scp], 10)\n",
    "\n"
   ]
  },
  {
   "cell_type": "markdown",
   "metadata": {
    "id": "Tpe2LYQ1CN7I"
   },
   "source": [
    "<div class=\"alert alert-block alert-success\"> Split conformal prediction comes with a theoretical coverage guarantee (contrary to quantile regression).\n",
    "    Some limitation to be noted are:\n",
    "    <ul>\n",
    "    <li>Dependence on data split: The performance of split conformal prediction can be heavily dependent on the particular data split used for training and validation. Different splits can result in different prediction intervals.</li>\n",
    "    <li>Limited to exanchageable data (often i.i.d.): Split conformal prediction assumes that the data is exchangeable, which may not be the case for all data sets. </li>\n",
    "    <li>Inefficient use of data: Split conformal prediction requires a separate validation set, which can reduce the amount of data available for training the model. This can be particularly problematic when data is limited or the model is complex.</li>\n",
    "        <li> Split conformal prediction outputs <b>non-adaptive intervals</b> to the test point. \n",
    "    </ul>\n",
    "</div>"
   ]
  },
  {
   "cell_type": "markdown",
   "metadata": {
    "id": "6WHyOFj6CN7J"
   },
   "source": [
    "<div id=\"Conformalized-Quantile-Regression-(CQR)\"> </div>\n",
    "\n",
    "# Conformalized Quantile Regression (CQR) \n",
    "\n",
    "\n",
    "<div class=\"alert alert-block alert-info\">\n",
    "Conformalized quantile regression is a statistical technique that combines the concepts of quantile regression and conformal prediction to provide prediction intervals that are valid with high probability (which is not the case when resorting to quantile regression only). This methods provides <b> adaptive </b> prediction sets to the test point in play. \n",
    "    \n",
    "</div>"
   ]
  },
  {
   "cell_type": "markdown",
   "metadata": {
    "id": "rqwE7yIfCN7J"
   },
   "source": [
    "<div id=\"fitting-(CQR)\"> </div>\n",
    "\n",
    "## Fitting (CQR)\n",
    "\n",
    "Train two quantile regressors of levels 0.05 and 0.95. "
   ]
  },
  {
   "cell_type": "code",
   "execution_count": 50,
   "metadata": {
    "colab": {
     "base_uri": "https://localhost:8080/",
     "height": 74
    },
    "collapsed": true,
    "id": "OhDJaR8jCN7J",
    "outputId": "7e015664-a1dd-4c1e-91d2-d65bc29bcc35"
   },
   "outputs": [
    {
     "data": {
      "text/html": [
       "<style>#sk-container-id-6 {color: black;background-color: white;}#sk-container-id-6 pre{padding: 0;}#sk-container-id-6 div.sk-toggleable {background-color: white;}#sk-container-id-6 label.sk-toggleable__label {cursor: pointer;display: block;width: 100%;margin-bottom: 0;padding: 0.3em;box-sizing: border-box;text-align: center;}#sk-container-id-6 label.sk-toggleable__label-arrow:before {content: \"▸\";float: left;margin-right: 0.25em;color: #696969;}#sk-container-id-6 label.sk-toggleable__label-arrow:hover:before {color: black;}#sk-container-id-6 div.sk-estimator:hover label.sk-toggleable__label-arrow:before {color: black;}#sk-container-id-6 div.sk-toggleable__content {max-height: 0;max-width: 0;overflow: hidden;text-align: left;background-color: #f0f8ff;}#sk-container-id-6 div.sk-toggleable__content pre {margin: 0.2em;color: black;border-radius: 0.25em;background-color: #f0f8ff;}#sk-container-id-6 input.sk-toggleable__control:checked~div.sk-toggleable__content {max-height: 200px;max-width: 100%;overflow: auto;}#sk-container-id-6 input.sk-toggleable__control:checked~label.sk-toggleable__label-arrow:before {content: \"▾\";}#sk-container-id-6 div.sk-estimator input.sk-toggleable__control:checked~label.sk-toggleable__label {background-color: #d4ebff;}#sk-container-id-6 div.sk-label input.sk-toggleable__control:checked~label.sk-toggleable__label {background-color: #d4ebff;}#sk-container-id-6 input.sk-hidden--visually {border: 0;clip: rect(1px 1px 1px 1px);clip: rect(1px, 1px, 1px, 1px);height: 1px;margin: -1px;overflow: hidden;padding: 0;position: absolute;width: 1px;}#sk-container-id-6 div.sk-estimator {font-family: monospace;background-color: #f0f8ff;border: 1px dotted black;border-radius: 0.25em;box-sizing: border-box;margin-bottom: 0.5em;}#sk-container-id-6 div.sk-estimator:hover {background-color: #d4ebff;}#sk-container-id-6 div.sk-parallel-item::after {content: \"\";width: 100%;border-bottom: 1px solid gray;flex-grow: 1;}#sk-container-id-6 div.sk-label:hover label.sk-toggleable__label {background-color: #d4ebff;}#sk-container-id-6 div.sk-serial::before {content: \"\";position: absolute;border-left: 1px solid gray;box-sizing: border-box;top: 0;bottom: 0;left: 50%;z-index: 0;}#sk-container-id-6 div.sk-serial {display: flex;flex-direction: column;align-items: center;background-color: white;padding-right: 0.2em;padding-left: 0.2em;position: relative;}#sk-container-id-6 div.sk-item {position: relative;z-index: 1;}#sk-container-id-6 div.sk-parallel {display: flex;align-items: stretch;justify-content: center;background-color: white;position: relative;}#sk-container-id-6 div.sk-item::before, #sk-container-id-6 div.sk-parallel-item::before {content: \"\";position: absolute;border-left: 1px solid gray;box-sizing: border-box;top: 0;bottom: 0;left: 50%;z-index: -1;}#sk-container-id-6 div.sk-parallel-item {display: flex;flex-direction: column;z-index: 1;position: relative;background-color: white;}#sk-container-id-6 div.sk-parallel-item:first-child::after {align-self: flex-end;width: 50%;}#sk-container-id-6 div.sk-parallel-item:last-child::after {align-self: flex-start;width: 50%;}#sk-container-id-6 div.sk-parallel-item:only-child::after {width: 0;}#sk-container-id-6 div.sk-dashed-wrapped {border: 1px dashed gray;margin: 0 0.4em 0.5em 0.4em;box-sizing: border-box;padding-bottom: 0.4em;background-color: white;}#sk-container-id-6 div.sk-label label {font-family: monospace;font-weight: bold;display: inline-block;line-height: 1.2em;}#sk-container-id-6 div.sk-label-container {text-align: center;}#sk-container-id-6 div.sk-container {/* jupyter's `normalize.less` sets `[hidden] { display: none; }` but bootstrap.min.css set `[hidden] { display: none !important; }` so we also need the `!important` here to be able to override the default hidden behavior on the sphinx rendered scikit-learn.org. See: https://github.com/scikit-learn/scikit-learn/issues/21755 */display: inline-block !important;position: relative;}#sk-container-id-6 div.sk-text-repr-fallback {display: none;}</style><div id=\"sk-container-id-6\" class=\"sk-top-container\"><div class=\"sk-text-repr-fallback\"><pre>QuantileRegressor(alpha=0, quantile=0.95, solver=&#x27;highs&#x27;)</pre><b>In a Jupyter environment, please rerun this cell to show the HTML representation or trust the notebook. <br />On GitHub, the HTML representation is unable to render, please try loading this page with nbviewer.org.</b></div><div class=\"sk-container\" hidden><div class=\"sk-item\"><div class=\"sk-estimator sk-toggleable\"><input class=\"sk-toggleable__control sk-hidden--visually\" id=\"sk-estimator-id-6\" type=\"checkbox\" checked><label for=\"sk-estimator-id-6\" class=\"sk-toggleable__label sk-toggleable__label-arrow\">QuantileRegressor</label><div class=\"sk-toggleable__content\"><pre>QuantileRegressor(alpha=0, quantile=0.95, solver=&#x27;highs&#x27;)</pre></div></div></div></div></div>"
      ],
      "text/plain": [
       "QuantileRegressor(alpha=0, quantile=0.95, solver='highs')"
      ]
     },
     "execution_count": 50,
     "metadata": {},
     "output_type": "execute_result"
    }
   ],
   "source": [
    "from sklearn.linear_model import QuantileRegressor\n",
    "\n",
    "from sklearn.utils.fixes import sp_version, parse_version\n",
    "\n",
    "## a good idea is to update scipy (!) to avoid problem of convergence\n",
    "solver = \"highs\" if sp_version >= parse_version(\"1.6.0\") else \"interior-point\"\n",
    "\n",
    "beta = 0.1\n",
    "\n",
    "# Fit upper and lower quantiles\n",
    "qr_down = QuantileRegressor(quantile=beta/2, alpha=0,solver='highs') # TODO OPERAND\n",
    "\n",
    "\n",
    "qr_up = QuantileRegressor(quantile=1-beta/2, alpha=0,solver='highs')# TODO OPERAND\n",
    "\n",
    "\n",
    "# Fitting  regression\n",
    "qr_down.fit(Xpoly_train, y_train)  # TODO LINE\n",
    "qr_up.fit(Xpoly_train, y_train)    # TODO LINE\n",
    "\n",
    "#qr_med = QuantileRegressor(quantile=0.5, alpha=0,solver='highs')\n",
    "#qr_med.fit(Xpoly_train, y_train)"
   ]
  },
  {
   "cell_type": "markdown",
   "metadata": {
    "id": "X6sgfQ7zCN7J"
   },
   "source": [
    "<div id=\"calibration-scores-(CQR)\"> </div>\n",
    "\n",
    "## Calibration scores (CQR)\n",
    "\n",
    "Compute the calibration scores. "
   ]
  },
  {
   "cell_type": "code",
   "execution_count": 51,
   "metadata": {
    "collapsed": true,
    "id": "PtG99_RdCN7J"
   },
   "outputs": [],
   "source": [
    "y_down_cal = qr_down.predict(Xpoly_cal) # TODO OPERAND\n",
    "y_up_cal = qr_up.predict(Xpoly_cal)     # TODO OPERAND\n",
    "\n",
    "#signed scores\n",
    "def score_cqr(y_cal,y_up_cal,y_down_cal):\n",
    "    return(np.maximum(y_cal-y_up_cal, y_down_cal-y_cal)) #TODO LINE\n",
    "\n",
    "send(score_cqr, 11)\n",
    "residuals_cal = score_cqr(y_cal,y_up_cal,y_down_cal) \n",
    "\n",
    "n_cal = len(y_cal) # TODO OPERAND\n",
    "quantile_cqr = np.quantile(residuals_cal,np.ceil((1-beta)*(n_cal+1))/n_cal) # TODO OPERAND\n"
   ]
  },
  {
   "cell_type": "markdown",
   "metadata": {
    "id": "_EcynbzaCN7K"
   },
   "source": [
    "<div id=\"prediction-(CQR)\"> </div>\n",
    "\n",
    "## Prediction (CQR)\n",
    "\n",
    "Illustrate the prediction sets on the test set."
   ]
  },
  {
   "cell_type": "code",
   "execution_count": 52,
   "metadata": {
    "colab": {
     "base_uri": "https://localhost:8080/",
     "height": 449
    },
    "collapsed": true,
    "id": "D7RWR8AACN7K",
    "outputId": "ad7d506c-b95a-46a2-8413-37dd513b73cd"
   },
   "outputs": [
    {
     "data": {
      "image/png": "[encoded data removed]",
      "text/plain": [
       "<Figure size 640x480 with 1 Axes>"
      ]
     },
     "metadata": {},
     "output_type": "display_data"
    }
   ],
   "source": [
    "# prediction on test\n",
    "y_down_test = qr_down.predict(Xpoly_test) # TODO OPERAND\n",
    "y_up_test = qr_up.predict(Xpoly_test)     # TODO OPERAND\n",
    "\n",
    "# prediction interval\n",
    "### TODO BLOCK\n",
    "plt.scatter(X_test,y_test,marker='.',color=color_test,zorder=2)\n",
    "plt.plot(X_test[np.argsort(X_test)],\n",
    "         y_down_test[np.argsort(X_test)],\n",
    "         '--',\n",
    "         color=color_train)\n",
    "plt.plot(X_test[np.argsort(X_test)],\n",
    "         y_up_test[np.argsort(X_test)],\n",
    "         '--',\n",
    "         color=color_train)\n",
    "plt.fill_between(X_test[np.argsort(X_test)],\n",
    "                 y_up_test[np.argsort(X_test)]+quantile_cqr,\n",
    "                 y_down_test[np.argsort(X_test)]-quantile_cqr,\n",
    "                 fc=color_cal,alpha=.3)\n",
    "### END TODO BLOCK\n",
    "plt.xlabel(r'$X$')\n",
    "plt.ylabel(r'$Y$')\n",
    "#plt.savefig('CQR_2.pdf', bbox_inches='tight',dpi=300)\n",
    "send(plt, 12)\n",
    "plt.show()\n"
   ]
  },
  {
   "cell_type": "markdown",
   "metadata": {
    "id": "K3u_DDHJCN7L"
   },
   "source": [
    "<div id=\"coverage-(CQR)\"> </div>\n",
    "\n",
    "## Coverage (CQR)"
   ]
  },
  {
   "cell_type": "code",
   "execution_count": 54,
   "metadata": {
    "colab": {
     "base_uri": "https://localhost:8080/"
    },
    "id": "8N2qtCySCN7L",
    "outputId": "5e93dee0-f215-4e83-ba38-eab6e7ed922d"
   },
   "outputs": [
    {
     "name": "stdout",
     "output_type": "stream",
     "text": [
      "Theoretical coverage:  0.9\n",
      "Empirical coverage with QR:  0.8585858585858586\n",
      "Empirical coverage with SCP:  0.9393939393939394\n",
      "Empirical coverage with CQR:  0.8888888888888888\n"
     ]
    },
    {
     "data": {
      "text/plain": [
       "<Response [200]>"
      ]
     },
     "execution_count": 54,
     "metadata": {},
     "output_type": "execute_result"
    }
   ],
   "source": [
    "# Count how many times the true label was indeed \n",
    "# in the prediction interval on the test set\n",
    "\n",
    "prop_covered_cqr = np.sum(((y_down_test-quantile_cqr)<=y_test)*(y_test<=(y_up_test+quantile_cqr)))/len(y_test) # TODO OPERAND\n",
    "print(\"Theoretical coverage: \",1-beta)\n",
    "print(\"Empirical coverage with QR: \",prop_covered_qr)\n",
    "print(\"Empirical coverage with SCP: \",prop_covered_scp) \n",
    "print(\"Empirical coverage with CQR: \",prop_covered_cqr)\n",
    "\n",
    "\n",
    "send(np.array([[\"Theoret\",1-beta],[ \"Emp_QR\", prop_covered_qr],[\"Emp_SCP\",prop_covered_scp],[\"EMP_CQR\", prop_covered_cqr]]), 13)\n"
   ]
  },
  {
   "cell_type": "code",
   "execution_count": 55,
   "metadata": {
    "collapsed": true,
    "id": "Gla9Vl0TCN7M"
   },
   "outputs": [],
   "source": [
    "## Plot the histogram of the interval lengths of SCP vs. CQR"
   ]
  },
  {
   "cell_type": "markdown",
   "metadata": {
    "id": "sg5SQZy3CN7M"
   },
   "source": [
    "<div class=\"alert alert-block alert-success\">\n",
    "By providing data-dependent prediction interval, conformalized quantile regression is particularly adapted here, with such an heteroscedastic model.\n",
    "    <br>\n",
    "    <br>\n",
    " This histogram helps us in two ways. Firstly, a large average set size indicates the conformal procedure is not very precise, indicating a possible problem with the score or underlying model. Secondly, the spread of the set sizes shows whether the prediction sets properly adapt to the difficulty of examples. A wider spread is generally desirable, since it means that the procedure is effectively distinguishing between easy and hard inputs.\n",
    "    <br>\n",
    "    <br>\n",
    "    A good spread of set sizes is generally better, but it does not necessarily\n",
    "indicate that the sets adapt properly to the difficulty of X. Above seeing that the set sizes have dynamic range, we need to verify that large sets occur for hard examples.\n",
    "</div>"
   ]
  },
  {
   "cell_type": "markdown",
   "metadata": {
    "id": "SCJXL6lwCN7M"
   },
   "source": [
    "# Improving the use of data: Jackknife+/CV"
   ]
  },
  {
   "cell_type": "code",
   "execution_count": 56,
   "metadata": {
    "collapsed": true,
    "id": "XbHXxbhuCN7N"
   },
   "outputs": [],
   "source": [
    "### If you reach this cell, do not hesitate to code \n",
    "## your own jackknife+ / CV conformal prediction"
   ]
  },
  {
   "cell_type": "code",
   "execution_count": null,
   "metadata": {
    "collapsed": true
   },
   "outputs": [],
   "source": []
  }
 ],
 "metadata": {
  "colab": {
   "provenance": []
  },
  "kernelspec": {
   "display_name": "Python 3.8",
   "language": "python",
   "name": "py38"
  },
  "language_info": {
   "codemirror_mode": {
    "name": "ipython",
    "version": 3
   },
   "file_extension": ".py",
   "mimetype": "text/x-python",
   "name": "python",
   "nbconvert_exporter": "python",
   "pygments_lexer": "ipython3",
   "version": "3.6.8"
  },
  "toc": {
   "base_numbering": 1,
   "nav_menu": {},
   "number_sections": true,
   "sideBar": true,
   "skip_h1_title": true,
   "title_cell": "Table of Contents",
   "title_sidebar": "Contents",
   "toc_cell": true,
   "toc_position": {},
   "toc_section_display": true,
   "toc_window_display": false
  }
 },
 "nbformat": 4,
 "nbformat_minor": 1
}
